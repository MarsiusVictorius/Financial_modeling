{
 "cells": [
  {
   "cell_type": "code",
   "execution_count": 1,
   "metadata": {},
   "outputs": [],
   "source": [
    "import pandas as pd \n",
    "import datetime as dt\n",
    "import matplotlib.pyplot as plt"
   ]
  },
  {
   "cell_type": "code",
   "execution_count": 2,
   "metadata": {},
   "outputs": [],
   "source": [
    "#Reading 5 years of SP500 data from .csv file\n",
    "df = pd.read_csv('all_stocks_5yr.csv')\n",
    "df['Date'] = pd.to_datetime(df['Date'], format='%d/%m/%Y')"
   ]
  },
  {
   "cell_type": "code",
   "execution_count": 3,
   "metadata": {},
   "outputs": [],
   "source": [
    "investment = 100000\n",
    "strategy_TOP10_return = list()"
   ]
  },
  {
   "cell_type": "code",
   "execution_count": 4,
   "metadata": {},
   "outputs": [
    {
     "data": {
      "text/html": [
       "<div>\n",
       "<style scoped>\n",
       "    .dataframe tbody tr th:only-of-type {\n",
       "        vertical-align: middle;\n",
       "    }\n",
       "\n",
       "    .dataframe tbody tr th {\n",
       "        vertical-align: top;\n",
       "    }\n",
       "\n",
       "    .dataframe thead th {\n",
       "        text-align: right;\n",
       "    }\n",
       "</style>\n",
       "<table border=\"1\" class=\"dataframe\">\n",
       "  <thead>\n",
       "    <tr style=\"text-align: right;\">\n",
       "      <th></th>\n",
       "      <th>Company Name</th>\n",
       "    </tr>\n",
       "  </thead>\n",
       "  <tbody>\n",
       "    <tr>\n",
       "      <th>0</th>\n",
       "      <td>AAL</td>\n",
       "    </tr>\n",
       "    <tr>\n",
       "      <th>1</th>\n",
       "      <td>AAPL</td>\n",
       "    </tr>\n",
       "    <tr>\n",
       "      <th>2</th>\n",
       "      <td>AAP</td>\n",
       "    </tr>\n",
       "    <tr>\n",
       "      <th>3</th>\n",
       "      <td>ABBV</td>\n",
       "    </tr>\n",
       "    <tr>\n",
       "      <th>4</th>\n",
       "      <td>ABC</td>\n",
       "    </tr>\n",
       "    <tr>\n",
       "      <th>5</th>\n",
       "      <td>ABT</td>\n",
       "    </tr>\n",
       "    <tr>\n",
       "      <th>6</th>\n",
       "      <td>ACN</td>\n",
       "    </tr>\n",
       "    <tr>\n",
       "      <th>7</th>\n",
       "      <td>ADBE</td>\n",
       "    </tr>\n",
       "    <tr>\n",
       "      <th>8</th>\n",
       "      <td>ADI</td>\n",
       "    </tr>\n",
       "    <tr>\n",
       "      <th>9</th>\n",
       "      <td>ADM</td>\n",
       "    </tr>\n",
       "  </tbody>\n",
       "</table>\n",
       "</div>"
      ],
      "text/plain": [
       "  Company Name\n",
       "0          AAL\n",
       "1         AAPL\n",
       "2          AAP\n",
       "3         ABBV\n",
       "4          ABC\n",
       "5          ABT\n",
       "6          ACN\n",
       "7         ADBE\n",
       "8          ADI\n",
       "9          ADM"
      ]
     },
     "execution_count": 4,
     "metadata": {},
     "output_type": "execute_result"
    }
   ],
   "source": [
    "for i in range(2013,2015):\n",
    "    # top 10 companies in last 2 years\n",
    "    df1 = df.loc[df['Date'].dt.year == i]\n",
    "    companies = df1['Name'].drop_duplicates().tolist()\n",
    "    table1 = pd.DataFrame(companies)\n",
    "    table1 = table1.rename(columns = {0:'Company Name'})\n",
    "    START_share_price_previous_year = list()\n",
    "    END_share_price_previous_year = list()\n",
    "table1.head(10)"
   ]
  },
  {
   "cell_type": "code",
   "execution_count": 5,
   "metadata": {},
   "outputs": [],
   "source": [
    "for name in companies:\n",
    "    min_date = df1.query('Name == \"{}\"'.format(name))['Date'].min()\n",
    "    START_share_price_previous_year.append(df1['Close'][(df1['Date'] == min_date)&(df1['Name'] == name)].item())\n",
    "    max_date = df1.query('Name == \"{}\"'.format(name))['Date'].max()\n",
    "    END_share_price_previous_year.append(df1['Close'][(df1['Date'] == max_date)&(df1['Name'] == name)].item())\n",
    "\n",
    "    \n",
    "   "
   ]
  },
  {
   "cell_type": "code",
   "execution_count": 6,
   "metadata": {},
   "outputs": [
    {
     "data": {
      "text/html": [
       "<div>\n",
       "<style scoped>\n",
       "    .dataframe tbody tr th:only-of-type {\n",
       "        vertical-align: middle;\n",
       "    }\n",
       "\n",
       "    .dataframe tbody tr th {\n",
       "        vertical-align: top;\n",
       "    }\n",
       "\n",
       "    .dataframe thead th {\n",
       "        text-align: right;\n",
       "    }\n",
       "</style>\n",
       "<table border=\"1\" class=\"dataframe\">\n",
       "  <thead>\n",
       "    <tr style=\"text-align: right;\">\n",
       "      <th></th>\n",
       "      <th>Date</th>\n",
       "      <th>open</th>\n",
       "      <th>high</th>\n",
       "      <th>low</th>\n",
       "      <th>Close</th>\n",
       "      <th>volume</th>\n",
       "      <th>Name</th>\n",
       "    </tr>\n",
       "  </thead>\n",
       "  <tbody>\n",
       "    <tr>\n",
       "      <th>226</th>\n",
       "      <td>2014-01-02</td>\n",
       "      <td>25.07</td>\n",
       "      <td>25.8200</td>\n",
       "      <td>25.06</td>\n",
       "      <td>25.360</td>\n",
       "      <td>8998943</td>\n",
       "      <td>AAL</td>\n",
       "    </tr>\n",
       "    <tr>\n",
       "      <th>227</th>\n",
       "      <td>2014-01-03</td>\n",
       "      <td>25.75</td>\n",
       "      <td>26.7500</td>\n",
       "      <td>25.51</td>\n",
       "      <td>26.540</td>\n",
       "      <td>13836062</td>\n",
       "      <td>AAL</td>\n",
       "    </tr>\n",
       "    <tr>\n",
       "      <th>228</th>\n",
       "      <td>2014-01-06</td>\n",
       "      <td>26.62</td>\n",
       "      <td>27.2000</td>\n",
       "      <td>26.60</td>\n",
       "      <td>27.030</td>\n",
       "      <td>11272273</td>\n",
       "      <td>AAL</td>\n",
       "    </tr>\n",
       "    <tr>\n",
       "      <th>229</th>\n",
       "      <td>2014-01-07</td>\n",
       "      <td>27.20</td>\n",
       "      <td>27.3997</td>\n",
       "      <td>26.67</td>\n",
       "      <td>26.905</td>\n",
       "      <td>11288775</td>\n",
       "      <td>AAL</td>\n",
       "    </tr>\n",
       "    <tr>\n",
       "      <th>230</th>\n",
       "      <td>2014-01-08</td>\n",
       "      <td>26.37</td>\n",
       "      <td>27.6800</td>\n",
       "      <td>26.35</td>\n",
       "      <td>27.630</td>\n",
       "      <td>15736891</td>\n",
       "      <td>AAL</td>\n",
       "    </tr>\n",
       "    <tr>\n",
       "      <th>231</th>\n",
       "      <td>2014-01-09</td>\n",
       "      <td>28.24</td>\n",
       "      <td>29.6000</td>\n",
       "      <td>28.20</td>\n",
       "      <td>29.420</td>\n",
       "      <td>26056445</td>\n",
       "      <td>AAL</td>\n",
       "    </tr>\n",
       "    <tr>\n",
       "      <th>232</th>\n",
       "      <td>2014-01-10</td>\n",
       "      <td>29.05</td>\n",
       "      <td>29.8300</td>\n",
       "      <td>28.75</td>\n",
       "      <td>29.350</td>\n",
       "      <td>12824160</td>\n",
       "      <td>AAL</td>\n",
       "    </tr>\n",
       "    <tr>\n",
       "      <th>233</th>\n",
       "      <td>2014-01-13</td>\n",
       "      <td>29.18</td>\n",
       "      <td>29.5300</td>\n",
       "      <td>28.58</td>\n",
       "      <td>28.650</td>\n",
       "      <td>10591701</td>\n",
       "      <td>AAL</td>\n",
       "    </tr>\n",
       "    <tr>\n",
       "      <th>234</th>\n",
       "      <td>2014-01-14</td>\n",
       "      <td>28.75</td>\n",
       "      <td>29.0400</td>\n",
       "      <td>28.71</td>\n",
       "      <td>28.870</td>\n",
       "      <td>10601529</td>\n",
       "      <td>AAL</td>\n",
       "    </tr>\n",
       "    <tr>\n",
       "      <th>235</th>\n",
       "      <td>2014-01-15</td>\n",
       "      <td>28.90</td>\n",
       "      <td>29.4400</td>\n",
       "      <td>28.70</td>\n",
       "      <td>28.840</td>\n",
       "      <td>11192558</td>\n",
       "      <td>AAL</td>\n",
       "    </tr>\n",
       "  </tbody>\n",
       "</table>\n",
       "</div>"
      ],
      "text/plain": [
       "          Date   open     high    low   Close    volume Name\n",
       "226 2014-01-02  25.07  25.8200  25.06  25.360   8998943  AAL\n",
       "227 2014-01-03  25.75  26.7500  25.51  26.540  13836062  AAL\n",
       "228 2014-01-06  26.62  27.2000  26.60  27.030  11272273  AAL\n",
       "229 2014-01-07  27.20  27.3997  26.67  26.905  11288775  AAL\n",
       "230 2014-01-08  26.37  27.6800  26.35  27.630  15736891  AAL\n",
       "231 2014-01-09  28.24  29.6000  28.20  29.420  26056445  AAL\n",
       "232 2014-01-10  29.05  29.8300  28.75  29.350  12824160  AAL\n",
       "233 2014-01-13  29.18  29.5300  28.58  28.650  10591701  AAL\n",
       "234 2014-01-14  28.75  29.0400  28.71  28.870  10601529  AAL\n",
       "235 2014-01-15  28.90  29.4400  28.70  28.840  11192558  AAL"
      ]
     },
     "execution_count": 6,
     "metadata": {},
     "output_type": "execute_result"
    }
   ],
   "source": [
    "df1.head(10)"
   ]
  },
  {
   "cell_type": "code",
   "execution_count": 7,
   "metadata": {},
   "outputs": [],
   "source": [
    "    table1['Start Share Price'] = START_share_price_previous_year\n",
    "    table1['End Share Price'] = END_share_price_previous_year\n",
    "    table1['Change in Share Price'] = table1['End Share Price'] - table1['Start Share Price']\n",
    "    table1.sort_values('Change in Share Price', ascending=False, inplace=True)\n",
    "    table2=table1.head(10)\n"
   ]
  },
  {
   "cell_type": "code",
   "execution_count": 8,
   "metadata": {},
   "outputs": [
    {
     "name": "stdout",
     "output_type": "stream",
     "text": [
      "    Company Name  Start Share Price  End Share Price  Change in Share Price\n",
      "101          CMG             523.43           684.51                 161.08\n",
      "56           AZO             474.11           619.11                 145.00\n",
      "377         REGN             274.59           410.25                 135.66\n",
      "18           AGN             168.05           257.41                  89.36\n",
      "397          SHW             182.41           263.04                  80.63\n",
      "233         ILMN             110.34           184.58                  74.24\n",
      "341         ORLY             128.76           192.62                  63.86\n",
      "312          MTD             241.53           302.46                  60.93\n",
      "161          ESS             146.30           206.60                  60.30\n",
      "66          BIIB             280.33           339.45                  59.12\n"
     ]
    }
   ],
   "source": [
    "print(table2)\n"
   ]
  },
  {
   "cell_type": "code",
   "execution_count": 9,
   "metadata": {},
   "outputs": [
    {
     "data": {
      "text/plain": [
       "[]"
      ]
     },
     "execution_count": 9,
     "metadata": {},
     "output_type": "execute_result"
    }
   ],
   "source": [
    "#Investing part\n",
    "df1 = df.loc[df['Date'].dt.year == (i+1)]\n",
    "top_10_performers = table2['Company Name'].tolist()\n",
    "top_10_performers_df = pd.DataFrame(top_10_performers)\n",
    "top_10_performers_df = top_10_performers_df.rename(columns = {0:'Top 10 Companies'})\n",
    "START_share_price_next_year = list()\n",
    "END_share_price_next_year = list()\n",
    "START_share_price_next_year\n"
   ]
  },
  {
   "cell_type": "code",
   "execution_count": 10,
   "metadata": {
    "scrolled": false
   },
   "outputs": [],
   "source": [
    "for name in  top_10_performers:\n",
    "    min_date = df1.query('Name == \"{}\"'.format(name))['Date'].min()\n",
    "    START_share_price_next_year.append(df1['Close'][(df1['Date'] == min_date)&(df1['Name'] == name)].item())\n",
    "    max_date = df1.query('Name == \"{}\"'.format(name))['Date'].max()\n",
    "    max_date = df1.query('Name == \"{}\"'.format(name))['Date'].max()\n",
    "    END_share_price_next_year.append(df1['Close'][(df1['Date'] == max_date)&(df1['Name'] == name)].item())\n",
    "        "
   ]
  },
  {
   "cell_type": "code",
   "execution_count": 11,
   "metadata": {},
   "outputs": [],
   "source": [
    "top_10_performers_df['Start Share Price'] = START_share_price_next_year"
   ]
  },
  {
   "cell_type": "code",
   "execution_count": 12,
   "metadata": {},
   "outputs": [],
   "source": [
    "share_investment = investment/10"
   ]
  },
  {
   "cell_type": "code",
   "execution_count": 13,
   "metadata": {},
   "outputs": [],
   "source": [
    "top_10_performers_df['Stock'] = share_investment/top_10_performers_df['Start Share Price']"
   ]
  },
  {
   "cell_type": "code",
   "execution_count": 14,
   "metadata": {},
   "outputs": [],
   "source": [
    "top_10_performers_df['End Share Price'] = END_share_price_next_year"
   ]
  },
  {
   "cell_type": "code",
   "execution_count": 15,
   "metadata": {},
   "outputs": [],
   "source": [
    " top_10_performers_df['Return'] = top_10_performers_df['Stock']*top_10_performers_df['End Share Price']"
   ]
  },
  {
   "cell_type": "code",
   "execution_count": 28,
   "metadata": {},
   "outputs": [
    {
     "name": "stdout",
     "output_type": "stream",
     "text": [
      "0     7073.260613\n",
      "1    12028.567260\n",
      "2    13235.566608\n",
      "3    12059.583993\n",
      "4     9891.784789\n",
      "5    10351.903786\n",
      "6    13191.400760\n",
      "7    11231.329690\n",
      "8    11381.507012\n",
      "9     8957.340429\n",
      "Name: Return, dtype: float64\n"
     ]
    }
   ],
   "source": [
    "total_return_year_after = top_10_performers_df['Return'].sum()\n",
    "print(top_10_performers_df['Return'])"
   ]
  },
  {
   "cell_type": "code",
   "execution_count": 29,
   "metadata": {},
   "outputs": [
    {
     "name": "stdout",
     "output_type": "stream",
     "text": [
      "109402.24493946804\n"
     ]
    }
   ],
   "source": [
    "print(total_return_year_after)"
   ]
  },
  {
   "cell_type": "code",
   "execution_count": 17,
   "metadata": {},
   "outputs": [
    {
     "name": "stdout",
     "output_type": "stream",
     "text": [
      "2015\n"
     ]
    }
   ],
   "source": [
    "print((i+1))"
   ]
  },
  {
   "cell_type": "code",
   "execution_count": 18,
   "metadata": {},
   "outputs": [
    {
     "name": "stdout",
     "output_type": "stream",
     "text": [
      "109402.24493946804\n"
     ]
    }
   ],
   "source": [
    "print(total_return_year_after)"
   ]
  }
 ],
 "metadata": {
  "kernelspec": {
   "display_name": "Python 3",
   "language": "python",
   "name": "python3"
  },
  "language_info": {
   "codemirror_mode": {
    "name": "ipython",
    "version": 3
   },
   "file_extension": ".py",
   "mimetype": "text/x-python",
   "name": "python",
   "nbconvert_exporter": "python",
   "pygments_lexer": "ipython3",
   "version": "3.6.7"
  }
 },
 "nbformat": 4,
 "nbformat_minor": 2
}
