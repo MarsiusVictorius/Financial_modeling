{
 "cells": [
  {
   "cell_type": "code",
   "execution_count": 1,
   "metadata": {},
   "outputs": [],
   "source": [
    "import pandas as pd \n",
    "import numpy as np\n",
    "import csv \n",
    "import datetime as dt\n",
    "import matplotlib.pyplot as plt  "
   ]
  },
  {
   "cell_type": "code",
   "execution_count": 2,
   "metadata": {},
   "outputs": [],
   "source": [
    "#Loading StockPrices historical data by pandas DataFrame, sorted by date:\n",
    "StockPrices = pd.read_csv('AAPL.csv', parse_dates=['Date'])\n",
    "StockPrices.sort_values(by ='Date')\n",
    "StockPrices.set_index('Date', inplace=True)\n",
    "\n",
    "\n"
   ]
  },
  {
   "cell_type": "code",
   "execution_count": 3,
   "metadata": {},
   "outputs": [],
   "source": [
    "#Loading StockPrices historical data by pandas DataFrame, sorted by date:\n",
    "#StockPrices = pd.read_csv('JPM.csv', parse_dates=['Date'])\n",
    "#StockPrices.sort_values(by = 'Date')\n",
    "#StockPrices.set_index('Date', inplace=True)"
   ]
  },
  {
   "cell_type": "code",
   "execution_count": 4,
   "metadata": {},
   "outputs": [
    {
     "name": "stdout",
     "output_type": "stream",
     "text": [
      "                Open      High       Low     Close  Adj Close       Volume\n",
      "Date                                                                      \n",
      "1980-12-12  0.513393  0.515625  0.513393  0.513393   0.023007  117258400.0\n",
      "1980-12-15  0.488839  0.488839  0.486607  0.486607   0.021807   43971200.0\n",
      "1980-12-16  0.453125  0.453125  0.450893  0.450893   0.020206   26432000.0\n",
      "1980-12-17  0.462054  0.464286  0.462054  0.462054   0.020706   21610400.0\n",
      "1980-12-18  0.475446  0.477679  0.475446  0.475446   0.021307   18362400.0\n"
     ]
    }
   ],
   "source": [
    "print(StockPrices.head())"
   ]
  },
  {
   "cell_type": "code",
   "execution_count": 5,
   "metadata": {},
   "outputs": [
    {
     "data": {
      "text/html": [
       "<div>\n",
       "<style scoped>\n",
       "    .dataframe tbody tr th:only-of-type {\n",
       "        vertical-align: middle;\n",
       "    }\n",
       "\n",
       "    .dataframe tbody tr th {\n",
       "        vertical-align: top;\n",
       "    }\n",
       "\n",
       "    .dataframe thead th {\n",
       "        text-align: right;\n",
       "    }\n",
       "</style>\n",
       "<table border=\"1\" class=\"dataframe\">\n",
       "  <thead>\n",
       "    <tr style=\"text-align: right;\">\n",
       "      <th></th>\n",
       "      <th>Open</th>\n",
       "      <th>High</th>\n",
       "      <th>Low</th>\n",
       "      <th>Close</th>\n",
       "      <th>Adj Close</th>\n",
       "      <th>Volume</th>\n",
       "      <th>Returns</th>\n",
       "    </tr>\n",
       "    <tr>\n",
       "      <th>Date</th>\n",
       "      <th></th>\n",
       "      <th></th>\n",
       "      <th></th>\n",
       "      <th></th>\n",
       "      <th></th>\n",
       "      <th></th>\n",
       "      <th></th>\n",
       "    </tr>\n",
       "  </thead>\n",
       "  <tbody>\n",
       "    <tr>\n",
       "      <th>1980-12-12</th>\n",
       "      <td>0.513393</td>\n",
       "      <td>0.515625</td>\n",
       "      <td>0.513393</td>\n",
       "      <td>0.513393</td>\n",
       "      <td>0.023007</td>\n",
       "      <td>117258400.0</td>\n",
       "      <td>NaN</td>\n",
       "    </tr>\n",
       "    <tr>\n",
       "      <th>1980-12-15</th>\n",
       "      <td>0.488839</td>\n",
       "      <td>0.488839</td>\n",
       "      <td>0.486607</td>\n",
       "      <td>0.486607</td>\n",
       "      <td>0.021807</td>\n",
       "      <td>43971200.0</td>\n",
       "      <td>-0.052158</td>\n",
       "    </tr>\n",
       "    <tr>\n",
       "      <th>1980-12-16</th>\n",
       "      <td>0.453125</td>\n",
       "      <td>0.453125</td>\n",
       "      <td>0.450893</td>\n",
       "      <td>0.450893</td>\n",
       "      <td>0.020206</td>\n",
       "      <td>26432000.0</td>\n",
       "      <td>-0.073417</td>\n",
       "    </tr>\n",
       "    <tr>\n",
       "      <th>1980-12-17</th>\n",
       "      <td>0.462054</td>\n",
       "      <td>0.464286</td>\n",
       "      <td>0.462054</td>\n",
       "      <td>0.462054</td>\n",
       "      <td>0.020706</td>\n",
       "      <td>21610400.0</td>\n",
       "      <td>0.024745</td>\n",
       "    </tr>\n",
       "    <tr>\n",
       "      <th>1980-12-18</th>\n",
       "      <td>0.475446</td>\n",
       "      <td>0.477679</td>\n",
       "      <td>0.475446</td>\n",
       "      <td>0.475446</td>\n",
       "      <td>0.021307</td>\n",
       "      <td>18362400.0</td>\n",
       "      <td>0.029025</td>\n",
       "    </tr>\n",
       "  </tbody>\n",
       "</table>\n",
       "</div>"
      ],
      "text/plain": [
       "                Open      High       Low     Close  Adj Close       Volume  \\\n",
       "Date                                                                         \n",
       "1980-12-12  0.513393  0.515625  0.513393  0.513393   0.023007  117258400.0   \n",
       "1980-12-15  0.488839  0.488839  0.486607  0.486607   0.021807   43971200.0   \n",
       "1980-12-16  0.453125  0.453125  0.450893  0.450893   0.020206   26432000.0   \n",
       "1980-12-17  0.462054  0.464286  0.462054  0.462054   0.020706   21610400.0   \n",
       "1980-12-18  0.475446  0.477679  0.475446  0.475446   0.021307   18362400.0   \n",
       "\n",
       "             Returns  \n",
       "Date                  \n",
       "1980-12-12       NaN  \n",
       "1980-12-15 -0.052158  \n",
       "1980-12-16 -0.073417  \n",
       "1980-12-17  0.024745  \n",
       "1980-12-18  0.029025  "
      ]
     },
     "execution_count": 5,
     "metadata": {},
     "output_type": "execute_result"
    }
   ],
   "source": [
    "StockPrices['Returns'] = StockPrices['Adj Close'].pct_change()\n",
    "StockPrices.head()"
   ]
  },
  {
   "cell_type": "code",
   "execution_count": 30,
   "metadata": {},
   "outputs": [
    {
     "data": {
      "image/png": "[encoded data removed]",
      "text/plain": [
       "<Figure size 432x288 with 1 Axes>"
      ]
     },
     "metadata": {
      "needs_background": "light"
     },
     "output_type": "display_data"
    }
   ],
   "source": [
    "plt.hist(StockPrices[\"Returns\"].dropna(), bins=100, density=True)\n",
    "plt.xlabel('returns')\n",
    "plt.ylabel('frequency')\n",
    "plt.show()"
   ]
  },
  {
   "cell_type": "code",
   "execution_count": 31,
   "metadata": {},
   "outputs": [
    {
     "data": {
      "image/png": "[encoded data removed]",
      "text/plain": [
       "<Figure size 432x288 with 1 Axes>"
      ]
     },
     "metadata": {
      "needs_background": "light"
     },
     "output_type": "display_data"
    }
   ],
   "source": [
    "StockPrices[\"Adj Close\"].plot()\n",
    "plt.ylabel('Price')\n",
    "plt.show()"
   ]
  },
  {
   "cell_type": "code",
   "execution_count": 35,
   "metadata": {},
   "outputs": [
    {
     "data": {
      "image/png": "[encoded data removed]",
      "text/plain": [
       "<Figure size 432x288 with 1 Axes>"
      ]
     },
     "metadata": {
      "needs_background": "light"
     },
     "output_type": "display_data"
    }
   ],
   "source": [
    "#One way of plotting Returns\n",
    "Returns = StockPrices[\"Returns\"].plot() \n",
    "plt.ylabel('frequency')\n",
    "plt.show()"
   ]
  },
  {
   "cell_type": "code",
   "execution_count": 33,
   "metadata": {},
   "outputs": [
    {
     "name": "stdout",
     "output_type": "stream",
     "text": [
      "Date\n",
      "1980-12-15   -5.215804\n",
      "1980-12-16   -7.341679\n",
      "1980-12-17    2.474513\n",
      "1980-12-18    2.902540\n",
      "1980-12-19    6.101281\n",
      "Name: Returns, dtype: float64\n"
     ]
    }
   ],
   "source": [
    "#\n",
    "percent_return = (StockPrices[\"Returns\"]*100).dropna()\n",
    "print(percent_return.head())"
   ]
  },
  {
   "cell_type": "code",
   "execution_count": 10,
   "metadata": {},
   "outputs": [
    {
     "name": "stdout",
     "output_type": "stream",
     "text": [
      "0.0013732784033799559\n"
     ]
    }
   ],
   "source": [
    "#one way of averaging daily retunrs\n",
    "mean_returns_daily = (StockPrices[\"Returns\"].mean())\n",
    "print(mean_returns_daily)\n"
   ]
  },
  {
   "cell_type": "code",
   "execution_count": 11,
   "metadata": {},
   "outputs": [
    {
     "data": {
      "text/plain": [
       "0.0013732784033799559"
      ]
     },
     "execution_count": 11,
     "metadata": {},
     "output_type": "execute_result"
    }
   ],
   "source": [
    "#average return of AAPL another way of assigning code\n",
    "np.mean(StockPrices[\"Returns\"])"
   ]
  },
  {
   "cell_type": "code",
   "execution_count": 12,
   "metadata": {},
   "outputs": [
    {
     "name": "stdout",
     "output_type": "stream",
     "text": [
      "0.4131605947150223\n"
     ]
    }
   ],
   "source": [
    "#Annualised return (252 trading days)\n",
    "ann_return=((1+np.mean(StockPrices[\"Returns\"]))**252)-1\n",
    "print(ann_return)"
   ]
  },
  {
   "cell_type": "code",
   "execution_count": 13,
   "metadata": {},
   "outputs": [
    {
     "name": "stdout",
     "output_type": "stream",
     "text": [
      "7.051195383646394e+37\n"
     ]
    }
   ],
   "source": [
    "# Calculate the implied annualized average return\n",
    "mean_return_annualized = ((1+ann_return)**252)-1\n",
    "print(mean_return_annualized)"
   ]
  },
  {
   "cell_type": "markdown",
   "metadata": {},
   "source": [
    "# SD and Variance\n"
   ]
  },
  {
   "cell_type": "code",
   "execution_count": 23,
   "metadata": {},
   "outputs": [],
   "source": [
    "Sigma = np.std(StockPrices[\"Returns\"])\n"
   ]
  },
  {
   "cell_type": "code",
   "execution_count": 25,
   "metadata": {},
   "outputs": [
    {
     "name": "stdout",
     "output_type": "stream",
     "text": [
      "0.0008540765524820401\n"
     ]
    }
   ],
   "source": [
    "# or it can be done by function \n",
    "#Squared sigma = variance \n",
    "Variance = Sigma**2\n",
    "print(Variance)"
   ]
  },
  {
   "cell_type": "code",
   "execution_count": 15,
   "metadata": {},
   "outputs": [
    {
     "data": {
      "text/plain": [
       "0.0008540765524820401"
      ]
     },
     "execution_count": 15,
     "metadata": {},
     "output_type": "execute_result"
    }
   ],
   "source": [
    "#Variance is squared Sigma, another way of typing it.(more time consuming as sigma defined already\n",
    "#1 cell above\n",
    "np.std(StockPrices[\"Returns\"])**2"
   ]
  },
  {
   "cell_type": "code",
   "execution_count": 22,
   "metadata": {},
   "outputs": [
    {
     "data": {
      "text/plain": [
       "0.46392595446415164"
      ]
     },
     "execution_count": 22,
     "metadata": {},
     "output_type": "execute_result"
    }
   ],
   "source": [
    "# Annualize the standard deviation\n",
    "np.std(StockPrices[\"Returns\"]) * np.sqrt(252)"
   ]
  },
  {
   "cell_type": "code",
   "execution_count": 28,
   "metadata": {},
   "outputs": [
    {
     "data": {
      "text/plain": [
       "0.46392595446415164"
      ]
     },
     "execution_count": 28,
     "metadata": {},
     "output_type": "execute_result"
    }
   ],
   "source": [
    "# or just Sigma * np.sqrt(252)\n",
    "Sigma_annualized = Sigma * np.sqrt(252)\n",
    "Sigma_annualized\n"
   ]
  },
  {
   "cell_type": "code",
   "execution_count": 29,
   "metadata": {},
   "outputs": [
    {
     "data": {
      "text/plain": [
       "0.2152272912254741"
      ]
     },
     "execution_count": 29,
     "metadata": {},
     "output_type": "execute_result"
    }
   ],
   "source": [
    "# Annualized Variance \n",
    "Annualized_Variance = Sigma_annualized**2\n",
    "Annualized_Variance"
   ]
  },
  {
   "cell_type": "markdown",
   "metadata": {},
   "source": [
    "# Skewness"
   ]
  },
  {
   "cell_type": "code",
   "execution_count": 17,
   "metadata": {},
   "outputs": [
    {
     "data": {
      "text/plain": [
       "-0.28835309365932504"
      ]
     },
     "execution_count": 17,
     "metadata": {},
     "output_type": "execute_result"
    }
   ],
   "source": [
    "# If skew is higher than 0, - suggestion of non-normality \n",
    "\n",
    "from scipy.stats import skew\n",
    "skew(StockPrices[\"Returns\"].dropna())"
   ]
  },
  {
   "cell_type": "markdown",
   "metadata": {},
   "source": [
    "# Kurtosis"
   ]
  },
  {
   "cell_type": "code",
   "execution_count": 18,
   "metadata": {},
   "outputs": [
    {
     "data": {
      "text/plain": [
       "17.52398199845012"
      ]
     },
     "execution_count": 18,
     "metadata": {},
     "output_type": "execute_result"
    }
   ],
   "source": [
    "# positive excess kurtosis greater than 3 ( 3 need to be subtracted )\n",
    "from scipy.stats import kurtosis \n",
    "kurtosis(StockPrices[\"Returns\"].dropna())\n"
   ]
  },
  {
   "cell_type": "code",
   "execution_count": 43,
   "metadata": {},
   "outputs": [
    {
     "name": "stdout",
     "output_type": "stream",
     "text": [
      "Null hypothesis of normality is rejected.\n"
     ]
    }
   ],
   "source": [
    "from scipy.stats import shapiro\n",
    "p_value = shapiro(StockPrices[\"Returns\"].dropna())[1]\n",
    "if p_value <= 0.05:\n",
    "    print(\"Null hypothesis of normality is rejected.\")\n",
    "else:\n",
    "    print(\"Null hyphotesis of normality is accepted.\")"
   ]
  },
  {
   "cell_type": "code",
   "execution_count": 44,
   "metadata": {},
   "outputs": [
    {
     "name": "stdout",
     "output_type": "stream",
     "text": [
      "0.0\n"
     ]
    }
   ],
   "source": [
    "print(p_value) "
   ]
  }
 ],
 "metadata": {
  "kernelspec": {
   "display_name": "Python 3",
   "language": "python",
   "name": "python3"
  },
  "language_info": {
   "codemirror_mode": {
    "name": "ipython",
    "version": 3
   },
   "file_extension": ".py",
   "mimetype": "text/x-python",
   "name": "python",
   "nbconvert_exporter": "python",
   "pygments_lexer": "ipython3",
   "version": "3.6.7"
  }
 },
 "nbformat": 4,
 "nbformat_minor": 2
}
