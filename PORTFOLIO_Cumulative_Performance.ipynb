{
 "cells": [
  {
   "cell_type": "code",
   "execution_count": 39,
   "metadata": {},
   "outputs": [],
   "source": [
    "import numpy as np\n",
    "import pandas as pd\n",
    "from decimal import Decimal\n",
    "import matplotlib.pyplot as plt"
   ]
  },
  {
   "cell_type": "code",
   "execution_count": 40,
   "metadata": {},
   "outputs": [],
   "source": [
    "#Importing csv file with already calculated returns\n",
    "StockReturns = pd.read_csv('BIGRETURNS.csv')\n",
    "#Adjusting towards our own prefferences, also avoiding mistakes by chosing format of datetime\n",
    "StockReturns['Date'] = pd.to_datetime(StockReturns['Date'], format='%d/%m/%Y')"
   ]
  },
  {
   "cell_type": "code",
   "execution_count": 49,
   "metadata": {},
   "outputs": [],
   "source": [
    "# The idea about using DF instead of hard coding, and eliminating Date ?\n",
    "StockReturnValues = StockReturns.loc[:, StockReturns.columns !='Date']"
   ]
  },
  {
   "cell_type": "code",
   "execution_count": 42,
   "metadata": {},
   "outputs": [
    {
     "data": {
      "text/html": [
       "<div>\n",
       "<style scoped>\n",
       "    .dataframe tbody tr th:only-of-type {\n",
       "        vertical-align: middle;\n",
       "    }\n",
       "\n",
       "    .dataframe tbody tr th {\n",
       "        vertical-align: top;\n",
       "    }\n",
       "\n",
       "    .dataframe thead th {\n",
       "        text-align: right;\n",
       "    }\n",
       "</style>\n",
       "<table border=\"1\" class=\"dataframe\">\n",
       "  <thead>\n",
       "    <tr style=\"text-align: right;\">\n",
       "      <th></th>\n",
       "      <th>Date</th>\n",
       "      <th>AAPL</th>\n",
       "      <th>MSFT</th>\n",
       "      <th>XOM</th>\n",
       "      <th>JNJ</th>\n",
       "      <th>JPM</th>\n",
       "      <th>AMZN</th>\n",
       "      <th>GE</th>\n",
       "      <th>FB</th>\n",
       "      <th>T</th>\n",
       "    </tr>\n",
       "  </thead>\n",
       "  <tbody>\n",
       "    <tr>\n",
       "      <th>246</th>\n",
       "      <td>2017-12-22</td>\n",
       "      <td>0.000000</td>\n",
       "      <td>0.000117</td>\n",
       "      <td>0.001431</td>\n",
       "      <td>-0.006664</td>\n",
       "      <td>-0.003524</td>\n",
       "      <td>-0.005448</td>\n",
       "      <td>0.001717</td>\n",
       "      <td>-0.001409</td>\n",
       "      <td>0.001543</td>\n",
       "    </tr>\n",
       "    <tr>\n",
       "      <th>247</th>\n",
       "      <td>2017-12-26</td>\n",
       "      <td>-0.025370</td>\n",
       "      <td>-0.001286</td>\n",
       "      <td>0.000119</td>\n",
       "      <td>-0.000214</td>\n",
       "      <td>-0.004002</td>\n",
       "      <td>0.007190</td>\n",
       "      <td>0.002877</td>\n",
       "      <td>-0.006828</td>\n",
       "      <td>0.003082</td>\n",
       "    </tr>\n",
       "    <tr>\n",
       "      <th>248</th>\n",
       "      <td>2017-12-27</td>\n",
       "      <td>0.000176</td>\n",
       "      <td>0.003630</td>\n",
       "      <td>-0.000953</td>\n",
       "      <td>0.003426</td>\n",
       "      <td>0.001869</td>\n",
       "      <td>0.004674</td>\n",
       "      <td>-0.002869</td>\n",
       "      <td>0.009262</td>\n",
       "      <td>-0.004352</td>\n",
       "    </tr>\n",
       "    <tr>\n",
       "      <th>249</th>\n",
       "      <td>2017-12-28</td>\n",
       "      <td>0.002814</td>\n",
       "      <td>0.000117</td>\n",
       "      <td>0.001430</td>\n",
       "      <td>-0.000071</td>\n",
       "      <td>0.005316</td>\n",
       "      <td>0.003248</td>\n",
       "      <td>-0.001151</td>\n",
       "      <td>0.001689</td>\n",
       "      <td>0.007457</td>\n",
       "    </tr>\n",
       "    <tr>\n",
       "      <th>250</th>\n",
       "      <td>2017-12-29</td>\n",
       "      <td>-0.010814</td>\n",
       "      <td>-0.002100</td>\n",
       "      <td>-0.004523</td>\n",
       "      <td>-0.005976</td>\n",
       "      <td>-0.007886</td>\n",
       "      <td>-0.014021</td>\n",
       "      <td>0.005184</td>\n",
       "      <td>-0.008206</td>\n",
       "      <td>-0.007657</td>\n",
       "    </tr>\n",
       "  </tbody>\n",
       "</table>\n",
       "</div>"
      ],
      "text/plain": [
       "          Date      AAPL      MSFT       XOM       JNJ       JPM      AMZN  \\\n",
       "246 2017-12-22  0.000000  0.000117  0.001431 -0.006664 -0.003524 -0.005448   \n",
       "247 2017-12-26 -0.025370 -0.001286  0.000119 -0.000214 -0.004002  0.007190   \n",
       "248 2017-12-27  0.000176  0.003630 -0.000953  0.003426  0.001869  0.004674   \n",
       "249 2017-12-28  0.002814  0.000117  0.001430 -0.000071  0.005316  0.003248   \n",
       "250 2017-12-29 -0.010814 -0.002100 -0.004523 -0.005976 -0.007886 -0.014021   \n",
       "\n",
       "           GE        FB         T  \n",
       "246  0.001717 -0.001409  0.001543  \n",
       "247  0.002877 -0.006828  0.003082  \n",
       "248 -0.002869  0.009262 -0.004352  \n",
       "249 -0.001151  0.001689  0.007457  \n",
       "250  0.005184 -0.008206 -0.007657  "
      ]
     },
     "execution_count": 42,
     "metadata": {},
     "output_type": "execute_result"
    }
   ],
   "source": [
    "StockReturns.tail()"
   ]
  },
  {
   "cell_type": "code",
   "execution_count": 43,
   "metadata": {},
   "outputs": [
    {
     "data": {
      "text/html": [
       "<div>\n",
       "<style scoped>\n",
       "    .dataframe tbody tr th:only-of-type {\n",
       "        vertical-align: middle;\n",
       "    }\n",
       "\n",
       "    .dataframe tbody tr th {\n",
       "        vertical-align: top;\n",
       "    }\n",
       "\n",
       "    .dataframe thead th {\n",
       "        text-align: right;\n",
       "    }\n",
       "</style>\n",
       "<table border=\"1\" class=\"dataframe\">\n",
       "  <thead>\n",
       "    <tr style=\"text-align: right;\">\n",
       "      <th></th>\n",
       "      <th>AAPL</th>\n",
       "      <th>MSFT</th>\n",
       "      <th>XOM</th>\n",
       "      <th>JNJ</th>\n",
       "      <th>JPM</th>\n",
       "      <th>AMZN</th>\n",
       "      <th>GE</th>\n",
       "      <th>FB</th>\n",
       "      <th>T</th>\n",
       "    </tr>\n",
       "  </thead>\n",
       "  <tbody>\n",
       "    <tr>\n",
       "      <th>246</th>\n",
       "      <td>0.000000</td>\n",
       "      <td>0.000117</td>\n",
       "      <td>0.001431</td>\n",
       "      <td>-0.006664</td>\n",
       "      <td>-0.003524</td>\n",
       "      <td>-0.005448</td>\n",
       "      <td>0.001717</td>\n",
       "      <td>-0.001409</td>\n",
       "      <td>0.001543</td>\n",
       "    </tr>\n",
       "    <tr>\n",
       "      <th>247</th>\n",
       "      <td>-0.025370</td>\n",
       "      <td>-0.001286</td>\n",
       "      <td>0.000119</td>\n",
       "      <td>-0.000214</td>\n",
       "      <td>-0.004002</td>\n",
       "      <td>0.007190</td>\n",
       "      <td>0.002877</td>\n",
       "      <td>-0.006828</td>\n",
       "      <td>0.003082</td>\n",
       "    </tr>\n",
       "    <tr>\n",
       "      <th>248</th>\n",
       "      <td>0.000176</td>\n",
       "      <td>0.003630</td>\n",
       "      <td>-0.000953</td>\n",
       "      <td>0.003426</td>\n",
       "      <td>0.001869</td>\n",
       "      <td>0.004674</td>\n",
       "      <td>-0.002869</td>\n",
       "      <td>0.009262</td>\n",
       "      <td>-0.004352</td>\n",
       "    </tr>\n",
       "    <tr>\n",
       "      <th>249</th>\n",
       "      <td>0.002814</td>\n",
       "      <td>0.000117</td>\n",
       "      <td>0.001430</td>\n",
       "      <td>-0.000071</td>\n",
       "      <td>0.005316</td>\n",
       "      <td>0.003248</td>\n",
       "      <td>-0.001151</td>\n",
       "      <td>0.001689</td>\n",
       "      <td>0.007457</td>\n",
       "    </tr>\n",
       "    <tr>\n",
       "      <th>250</th>\n",
       "      <td>-0.010814</td>\n",
       "      <td>-0.002100</td>\n",
       "      <td>-0.004523</td>\n",
       "      <td>-0.005976</td>\n",
       "      <td>-0.007886</td>\n",
       "      <td>-0.014021</td>\n",
       "      <td>0.005184</td>\n",
       "      <td>-0.008206</td>\n",
       "      <td>-0.007657</td>\n",
       "    </tr>\n",
       "  </tbody>\n",
       "</table>\n",
       "</div>"
      ],
      "text/plain": [
       "         AAPL      MSFT       XOM       JNJ       JPM      AMZN        GE  \\\n",
       "246  0.000000  0.000117  0.001431 -0.006664 -0.003524 -0.005448  0.001717   \n",
       "247 -0.025370 -0.001286  0.000119 -0.000214 -0.004002  0.007190  0.002877   \n",
       "248  0.000176  0.003630 -0.000953  0.003426  0.001869  0.004674 -0.002869   \n",
       "249  0.002814  0.000117  0.001430 -0.000071  0.005316  0.003248 -0.001151   \n",
       "250 -0.010814 -0.002100 -0.004523 -0.005976 -0.007886 -0.014021  0.005184   \n",
       "\n",
       "           FB         T  \n",
       "246 -0.001409  0.001543  \n",
       "247 -0.006828  0.003082  \n",
       "248  0.009262 -0.004352  \n",
       "249  0.001689  0.007457  \n",
       "250 -0.008206 -0.007657  "
      ]
     },
     "execution_count": 43,
     "metadata": {},
     "output_type": "execute_result"
    }
   ],
   "source": [
    "StockReturnValues.tail()"
   ]
  },
  {
   "cell_type": "code",
   "execution_count": 44,
   "metadata": {},
   "outputs": [],
   "source": [
    "#Defining our weighting of individual stock in  the portfolio \n",
    "portfolio_weights = np.array([0.12, 0.15, 0.08, 0.05, 0.09, 0.10, 0.11, 0.14, 0.16])"
   ]
  },
  {
   "cell_type": "code",
   "execution_count": 45,
   "metadata": {},
   "outputs": [],
   "source": [
    "# Calculate the weighted stock returns\n",
    "WeightedReturns = StockReturnValues.mul(portfolio_weights, axis=1)"
   ]
  },
  {
   "cell_type": "code",
   "execution_count": 46,
   "metadata": {},
   "outputs": [],
   "source": [
    "# Calculate the portfolio returns\n",
    "StockReturns['Portfolio'] = WeightedReturns.sum(axis=1)"
   ]
  },
  {
   "cell_type": "code",
   "execution_count": 47,
   "metadata": {},
   "outputs": [
    {
     "data": {
      "text/plain": [
       "0    0.008082\n",
       "1    0.000161\n",
       "2    0.003448\n",
       "3    0.004660\n",
       "4   -0.001372\n",
       "Name: Portfolio, dtype: float64"
      ]
     },
     "execution_count": 47,
     "metadata": {},
     "output_type": "execute_result"
    }
   ],
   "source": [
    "StockReturns['Portfolio'].head()"
   ]
  },
  {
   "cell_type": "code",
   "execution_count": 48,
   "metadata": {},
   "outputs": [
    {
     "data": {
      "image/png": "[encoded data removed]",
      "text/plain": [
       "<Figure size 432x288 with 1 Axes>"
      ]
     },
     "metadata": {
      "needs_background": "light"
     },
     "output_type": "display_data"
    }
   ],
   "source": [
    "# Plot the cumulative portfolio returns over time\n",
    "CumulativeReturns = ((1+StockReturns[\"Portfolio\"]).cumprod()-1)\n",
    "CumulativeReturns.plot()\n",
    "plt.show()"
   ]
  },
  {
   "cell_type": "code",
   "execution_count": null,
   "metadata": {},
   "outputs": [],
   "source": []
  }
 ],
 "metadata": {
  "kernelspec": {
   "display_name": "Python 3",
   "language": "python",
   "name": "python3"
  },
  "language_info": {
   "codemirror_mode": {
    "name": "ipython",
    "version": 3
   },
   "file_extension": ".py",
   "mimetype": "text/x-python",
   "name": "python",
   "nbconvert_exporter": "python",
   "pygments_lexer": "ipython3",
   "version": "3.6.7"
  }
 },
 "nbformat": 4,
 "nbformat_minor": 2
}
